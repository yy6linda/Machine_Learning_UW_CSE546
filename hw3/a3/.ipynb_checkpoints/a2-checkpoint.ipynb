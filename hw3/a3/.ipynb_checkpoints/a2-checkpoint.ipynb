{
 "cells": [
  {
   "cell_type": "code",
   "execution_count": 1,
   "metadata": {},
   "outputs": [],
   "source": [
    "import numpy as np\n",
    "from matplotlib import pyplot as plt\n",
    "import scipy\n",
    "import seaborn as sns"
   ]
  },
  {
   "cell_type": "code",
   "execution_count": 2,
   "metadata": {},
   "outputs": [],
   "source": [
    "def generate_dataset(n):\n",
    "    np.random.seed(46)\n",
    "    sigma = 1\n",
    "    x = np.random.uniform (0, 1, n)\n",
    "    x = x.reshape(n,1)\n",
    "    err = np.random.normal(0, sigma, n).reshape(n,1) \n",
    "    f = 4*np.sin(np.pi*x)*np.cos(6*np.pi*x**2)\n",
    "    y = 4*np.sin(np.pi*x)*np.cos(6*np.pi*x**2) + err\n",
    "    return x,f,y"
   ]
  },
  {
   "cell_type": "code",
   "execution_count": 3,
   "metadata": {},
   "outputs": [],
   "source": [
    "def train(K,y,L):\n",
    "    # a = argmin(Ka-y)^2+La^TKa\n",
    "    # using closed-form solution:\n",
    "    # a = (K+LI)^(-1)y\n",
    "    m = (K + L*np.identity(K.shape[0]))\n",
    "    a = scipy.linalg.solve(m,y)\n",
    "    return a"
   ]
  },
  {
   "cell_type": "code",
   "execution_count": 4,
   "metadata": {},
   "outputs": [],
   "source": [
    "def poly(x,z,d):\n",
    "    k = (1+x.T.dot(z))**d\n",
    "    return k"
   ]
  },
  {
   "cell_type": "code",
   "execution_count": 5,
   "metadata": {},
   "outputs": [],
   "source": [
    "def rbf(x,z,r):\n",
    "    k = np.exp(-r*(x-z)**2)\n",
    "    return k"
   ]
  },
  {
   "cell_type": "code",
   "execution_count": 6,
   "metadata": {},
   "outputs": [],
   "source": [
    "def form_kernal(x,kernal,param,x2=None):\n",
    "    if x2 is None:\n",
    "        x2 = x\n",
    "    m = x.shape[0]\n",
    "    n = x2.shape[0]\n",
    "    K = np.zeros((m,n))\n",
    "    for i in range(0,m):\n",
    "        for j in range(0,n):\n",
    "            K[i,j] = kernal(x[i],x2[j],param)\n",
    "    return K"
   ]
  },
  {
   "cell_type": "code",
   "execution_count": 7,
   "metadata": {},
   "outputs": [],
   "source": [
    "def pred(K,a):\n",
    "    y = K.dot(a)\n",
    "    return y\n",
    "    "
   ]
  },
  {
   "cell_type": "code",
   "execution_count": 8,
   "metadata": {},
   "outputs": [],
   "source": [
    "def kfold(K,y,k=5):\n",
    "    K_trains = []\n",
    "    K_vals = []\n",
    "    y_trains = []\n",
    "    y_vals = []\n",
    "    #idx = np.random.permutation(K.shape[0])\n",
    "    idx = np.random.RandomState(seed=42).permutation(K.shape[0])\n",
    "    part_size = int(K.shape[0]/k)\n",
    "    for i in range(0,k):\n",
    "        start = i * part_size\n",
    "        end = (i + 1) * part_size\n",
    "        train_idx = idx[start:end]\n",
    "        val_idx = np.concatenate((idx[0:start],idx[end:]))\n",
    "        K_trains.append(  K[train_idx, :][:,train_idx]  ) \n",
    "        K_vals.append(K[val_idx, :][:, train_idx])\n",
    "        y_trains.append(y[train_idx, :])\n",
    "        y_vals.append(y[val_idx, :])\n",
    "    return K_trains, K_vals, y_trains, y_vals"
   ]
  },
  {
   "cell_type": "code",
   "execution_count": 9,
   "metadata": {},
   "outputs": [],
   "source": [
    "def MSE(y,y_pred):\n",
    "    mse = np.mean((y-y_pred)**2)\n",
    "    return mse"
   ]
  },
  {
   "cell_type": "code",
   "execution_count": 10,
   "metadata": {},
   "outputs": [],
   "source": [
    "def loo(x,y,param_list, L_list,kernal):\n",
    "    results = []\n",
    "    for L in L_list:\n",
    "        for param in param_list:\n",
    "            mse_list = []\n",
    "            for i in range(x.shape[0]):\n",
    "                #print(i)\n",
    "                cx = np.concatenate((x[:i],x[(i+1):]))\n",
    "                cy = np.concatenate((y[:i],y[(i+1):]))\n",
    "                x_i = x[i]\n",
    "                x_i = x_i.reshape(x_i.shape[0],1)\n",
    "                y_i = y[i]\n",
    "                y_i = y_i.reshape(y_i.shape[0],1)\n",
    "                K = form_kernal(cx,kernal,param,x2=None)\n",
    "                #print(L)\n",
    "                a = train(K,cy,L)\n",
    "                Kc = form_kernal(x_i,kernal,param,x2=cx)\n",
    "                y_pred = pred(Kc,a)\n",
    "                mse = MSE(y_i,y_pred)\n",
    "                #print(y_i,y_pred)\n",
    "                mse_list.append(mse)\n",
    "            results.append( ( np.mean(mse_list), param, L ) )\n",
    "    min_mse = 1000\n",
    "    best_param = 0\n",
    "    best_L = 0\n",
    "    #print (results)\n",
    "    for i in results: \n",
    "        mse_avg,param,L = i\n",
    "        if mse_avg < min_mse:\n",
    "            best_param = param\n",
    "            best_L = L\n",
    "            min_mse = mse_avg \n",
    "    return best_param,best_L, min_mse "
   ]
  },
  {
   "cell_type": "code",
   "execution_count": 11,
   "metadata": {},
   "outputs": [],
   "source": [
    "def cv(x,y,param_list, L_list,kernal,k):\n",
    "    results = []\n",
    "    for param in param_list:\n",
    "        K = form_kernal(x,kernal,param,x2=None)\n",
    "        K_trains, K_vals, y_trains, y_vals = kfold(K,y,k=k)\n",
    "        for L in L_list:\n",
    "            mse_list = []\n",
    "            for i in range(k):\n",
    "                a = train(K_trains[i],y_trains[i],L)\n",
    "                y_pred = pred(K_vals[i],a)\n",
    "                mse = MSE(y_vals[i],y_pred)\n",
    "                mse_list.append(mse)\n",
    "            results.append( ( np.mean(mse_list), param, L ) )\n",
    "    min_mse = 1000\n",
    "    best_param = 0\n",
    "    best_L = 0\n",
    "    print (results)\n",
    "    for i in results: \n",
    "        mse_avg,param,L = i\n",
    "        if mse_avg < min_mse:\n",
    "            best_param = param\n",
    "            best_L = L\n",
    "            min_mse = mse_avg \n",
    "    return best_param,best_L, min_mse       "
   ]
  },
  {
   "cell_type": "code",
   "execution_count": 12,
   "metadata": {},
   "outputs": [],
   "source": [
    "def plot(x,y,f):\n",
    "    plt.plot(x,y,label = 'y')\n",
    "    plt.plot(x,f,label = 'f')\n",
    "    param_list= np.arange(1, 10)\n",
    "    L_list = np.float_power( 10, np.arange(-5, 2) )\n",
    "    best_param,best_L, min_mse  = loo(x,y,param_list,L_list,poly)\n",
    "    K = form_kernal(x,poly,best_param,x2=None)\n",
    "    a = train(K,y,best_L)\n",
    "    x_plot = np.arange(0,1,0.001)\n",
    "    x_plot =  x_plot.reshape( x_plot.shape[0],1)\n",
    "    K_plot = form_kernal(x_plot,poly,best_param,x2=x)\n",
    "    y_pred_poly_best = pred(K_plot,a)\n",
    "    f_plot = 4*np.sin(np.pi*x_plot)*np.cos(6*np.pi*x_plot**2)\n",
    "    sns.set()\n",
    "    #sns.scatterplot(x,y,label ='y')\n",
    "    sns.lineplot(x_plot,f_plot,label = 'f')\n",
    "    sns.lineplot(x_plot,y_pred_poly_best,label = 'fpoly')\n",
    "    plt.title(\"poly\")\n",
    "    plt.legend()\n",
    "    plt.xlabel(\"x\")\n",
    "    plt.ylabel(\"f(x)\")\n",
    "    plt.ylim(-5, 5)"
   ]
  },
  {
   "cell_type": "code",
   "execution_count": 62,
   "metadata": {},
   "outputs": [],
   "source": [
    "'''Q1 hyperparameter tuning'''\n",
    "x,f,y = generate_dataset(30)\n",
    "param_list= np.arange(1, 10)\n",
    "L_list = np.float_power( 10, np.arange(-5, 2) )\n",
    "#loo(x,y,[2,3],[3,4],poly)\n",
    "#best_param,best_L, min_mse  = loo(x,y,param_list,L_list,poly)\n",
    "#best_param2,best_L2, min_mse2   = cv(x,y,param_list, L_list,poly,25)"
   ]
  },
  {
   "cell_type": "code",
   "execution_count": 13,
   "metadata": {},
   "outputs": [
    {
     "data": {
      "text/plain": [
       "array([[0.78383235],\n",
       "       [0.63483371],\n",
       "       [0.24904309],\n",
       "       [0.75807586],\n",
       "       [0.31307694],\n",
       "       [0.93723736],\n",
       "       [0.04286545],\n",
       "       [0.4408672 ],\n",
       "       [0.91272229],\n",
       "       [0.45500392],\n",
       "       [0.50793434],\n",
       "       [0.08490795],\n",
       "       [0.42634979],\n",
       "       [0.74571696],\n",
       "       [0.8670814 ],\n",
       "       [0.32366583],\n",
       "       [0.1040744 ],\n",
       "       [0.80210805],\n",
       "       [0.39483195],\n",
       "       [0.62776809],\n",
       "       [0.03598854],\n",
       "       [0.29990785],\n",
       "       [0.04765322],\n",
       "       [0.37221108],\n",
       "       [0.2624152 ],\n",
       "       [0.99052621],\n",
       "       [0.39514535],\n",
       "       [0.30753926],\n",
       "       [0.22110114],\n",
       "       [0.49402502]])"
      ]
     },
     "execution_count": 13,
     "metadata": {},
     "output_type": "execute_result"
    }
   ],
   "source": [
    "x,f,y = generate_dataset(30)\n",
    "#plot(x,y,f)\n",
    "x"
   ]
  },
  {
   "cell_type": "code",
   "execution_count": 79,
   "metadata": {},
   "outputs": [
    {
     "data": {
      "text/plain": [
       "[<matplotlib.lines.Line2D at 0x1a1ca2bcd0>]"
      ]
     },
     "execution_count": 79,
     "metadata": {},
     "output_type": "execute_result"
    },
    {
     "data": {
      "image/png": "[encoded data removed]",
      "text/plain": [
       "<Figure size 432x288 with 1 Axes>"
      ]
     },
     "metadata": {},
     "output_type": "display_data"
    }
   ],
   "source": [
    "plt.plot(x[:,0],f[:,0],'-')\n"
   ]
  },
  {
   "cell_type": "code",
   "execution_count": 78,
   "metadata": {},
   "outputs": [
    {
     "data": {
      "text/plain": [
       "array([[0.78383235],\n",
       "       [0.63483371],\n",
       "       [0.24904309],\n",
       "       [0.75807586],\n",
       "       [0.31307694],\n",
       "       [0.93723736],\n",
       "       [0.04286545],\n",
       "       [0.4408672 ],\n",
       "       [0.91272229],\n",
       "       [0.45500392],\n",
       "       [0.50793434],\n",
       "       [0.08490795],\n",
       "       [0.42634979],\n",
       "       [0.74571696],\n",
       "       [0.8670814 ],\n",
       "       [0.32366583],\n",
       "       [0.1040744 ],\n",
       "       [0.80210805],\n",
       "       [0.39483195],\n",
       "       [0.62776809],\n",
       "       [0.03598854],\n",
       "       [0.29990785],\n",
       "       [0.04765322],\n",
       "       [0.37221108],\n",
       "       [0.2624152 ],\n",
       "       [0.99052621],\n",
       "       [0.39514535],\n",
       "       [0.30753926],\n",
       "       [0.22110114],\n",
       "       [0.49402502]])"
      ]
     },
     "execution_count": 78,
     "metadata": {},
     "output_type": "execute_result"
    }
   ],
   "source": [
    "x"
   ]
  },
  {
   "cell_type": "code",
   "execution_count": null,
   "metadata": {},
   "outputs": [],
   "source": []
  }
 ],
 "metadata": {
  "kernelspec": {
   "display_name": "Python 3",
   "language": "python",
   "name": "python3"
  },
  "language_info": {
   "codemirror_mode": {
    "name": "ipython",
    "version": 3
   },
   "file_extension": ".py",
   "mimetype": "text/x-python",
   "name": "python",
   "nbconvert_exporter": "python",
   "pygments_lexer": "ipython3",
   "version": "3.7.6"
  }
 },
 "nbformat": 4,
 "nbformat_minor": 4
}
