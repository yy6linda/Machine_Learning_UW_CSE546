{
 "cells": [
  {
   "cell_type": "code",
   "execution_count": null,
   "metadata": {},
   "outputs": [],
   "source": [
    "import torch\n",
    "from mnist import MNIST\n",
    "import numpy as np\n",
    "from scipy import linalg\n",
    "import random\n",
    "import matplotlib\n",
    "import matplotlib.pyplot as plt\n",
    "import seaborn as sns\n",
    "mndata = MNIST('./data/')\n",
    "x_train, y_train = map(np.array, mndata.load_training())\n",
    "x_test, y_test = map(np.array, mndata.load_testing())\n",
    "x_train = torch.FloatTensor(x_train/255.0)\n",
    "y_train = torch.tensor(y_train)\n",
    "x_test = torch.FloatTensor(x_test/255.0)\n",
    "y_test = torch.tensor(y_test)"
   ]
  },
  {
   "cell_type": "code",
   "execution_count": null,
   "metadata": {},
   "outputs": [],
   "source": [
    "def one_hot(labels):\n",
    "    k = labels.max() + 1\n",
    "    return torch.tensor([np.eye(k)[i] for i in labels])\n",
    "    "
   ]
  },
  {
   "cell_type": "code",
   "execution_count": null,
   "metadata": {},
   "outputs": [],
   "source": [
    "def cal_accuracy(W,x,y):\n",
    "    y_hat = torch.matmul(x, W)\n",
    "    y_hat_label = torch.argmax(y_hat, axis=1)\n",
    "    acc = float(torch.sum(y_hat_label == y)) / float(x.shape[0])\n",
    "    return acc"
   ]
  },
  {
   "cell_type": "code",
   "execution_count": null,
   "metadata": {},
   "outputs": [],
   "source": [
    "# softmax\n",
    "def fit_gd_cross_entropy(x_train,y_train,x_test,y_test,eta=0.1, delta = 1e-4):\n",
    "    W = torch.zeros(784, 10, requires_grad=True)\n",
    "    converged = False\n",
    "    loss_prev = 0\n",
    "    d_loss = 1\n",
    "    loss = 1\n",
    "    train_accuracy = []\n",
    "    test_accuracy = []\n",
    "    i = 0\n",
    "    while d_loss > delta:\n",
    "        i = i+1\n",
    "        y_hat = torch.matmul(x_train, W)\n",
    "        loss = torch.nn.functional.cross_entropy(y_hat, y_train.long())\n",
    "        d_loss = abs(loss -loss_prev)\n",
    "        loss_prev = loss\n",
    "        loss.backward()\n",
    "        W.data = W.data - eta * W.grad\n",
    "        train_accuracy.append(cal_accuracy(W,x_train,y_train))\n",
    "        test_accuracy.append(cal_accuracy(W,x_test,y_test))\n",
    "        W.grad.zero_()\n",
    "        \n",
    "    return W,train_accuracy,test_accuracy,i\n",
    "        #print(loss.data)\n",
    "        "
   ]
  },
  {
   "cell_type": "code",
   "execution_count": null,
   "metadata": {},
   "outputs": [],
   "source": [
    "#y_train\n",
    "W,train_accuracy,test_accuracy,i = fit_gd_cross_entropy(x_train,y_train,x_test,y_test,eta=0.05, delta=0.001)"
   ]
  },
  {
   "cell_type": "code",
   "execution_count": null,
   "metadata": {},
   "outputs": [],
   "source": [
    "fig, ax = plt.subplots(figsize=(16,9))\n",
    "sns.lineplot(x=range(1,i+1), y=train_accuracy, ax=ax, label=\"Training data\")\n",
    "sns.lineplot(x=range(1,i+1), y=test_accuracy, ax=ax, label=\"Test data\")\n",
    "plt.legend()\n",
    "ax.set_xlabel(\"Iteration\")\n",
    "ax.set_ylabel(\"Accuracy\")\n",
    "#plt.savefig(\"B4c1.png\")\n",
    "'''\n",
    "fig, ax = plt.subplots(figsize=(16,9))\n",
    "sns.lineplot(x=range(0,i), y = train_mislabeled_error, ax=ax, label=\"Training data\")\n",
    "sns.lineplot(x=range(0,i), y = test_mislabeled_error, ax=ax, label=\"Test data\")\n",
    "plt.legend()\n",
    "ax.set_xlabel(\"Iterations\")\n",
    "ax.set_ylabel(\"mislabeled_error\")\n",
    "plt.savefig(\"A62b.png\")\n",
    "'''"
   ]
  },
  {
   "cell_type": "code",
   "execution_count": null,
   "metadata": {},
   "outputs": [],
   "source": [
    "test_accuracy[-1]"
   ]
  },
  {
   "cell_type": "code",
   "execution_count": null,
   "metadata": {},
   "outputs": [],
   "source": [
    "train_accuracy"
   ]
  },
  {
   "cell_type": "code",
   "execution_count": 1,
   "metadata": {},
   "outputs": [],
   "source": [
    "import torch\n",
    "from mnist import MNIST\n",
    "import numpy as np\n",
    "from scipy import linalg\n",
    "import random\n",
    "import matplotlib\n",
    "import matplotlib.pyplot as plt\n",
    "import seaborn as sns\n",
    "mndata = MNIST('./data/')\n",
    "x_train, y_train = map(np.array, mndata.load_training())\n",
    "x_test, y_test = map(np.array, mndata.load_testing())\n",
    "x_train = torch.FloatTensor(x_train/255.0)\n",
    "y_train = torch.tensor(y_train)\n",
    "x_test = torch.FloatTensor(x_test/255.0)\n",
    "y_test = torch.tensor(y_test)"
   ]
  },
  {
   "cell_type": "code",
   "execution_count": 2,
   "metadata": {},
   "outputs": [],
   "source": [
    "def one_hot(labels):\n",
    "    k = labels.max() + 1\n",
    "    return torch.tensor([np.eye(k)[i] for i in labels])"
   ]
  },
  {
   "cell_type": "code",
   "execution_count": 3,
   "metadata": {},
   "outputs": [],
   "source": [
    "def cal_accuracy(W,x,y):\n",
    "    y_hat = torch.matmul(x, W)\n",
    "    y_hat_label = torch.argmax(y_hat, axis=1)\n",
    "    acc = float(torch.sum(y_hat_label == y)) / float(x.shape[0])\n",
    "    return acc"
   ]
  },
  {
   "cell_type": "code",
   "execution_count": null,
   "metadata": {},
   "outputs": [],
   "source": []
  },
  {
   "cell_type": "code",
   "execution_count": 8,
   "metadata": {},
   "outputs": [],
   "source": [
    "# softmax\n",
    "def fit_gd_cross_entropy(x_train,y_train,x_test,y_test,eta=0.05, delta = 1e-4):\n",
    "    W = torch.zeros(784, 10, requires_grad=True)\n",
    "    converged = False\n",
    "    loss_prev = 0\n",
    "    d_loss = 1\n",
    "    loss = 1\n",
    "    train_accuracy = []\n",
    "    test_accuracy = []\n",
    "    i = 0\n",
    "    while d_loss > delta:\n",
    "        i = i+1\n",
    "        y_hat = torch.matmul(x_train, W)\n",
    "        y_train_oh = one_hot(y_train)\n",
    "        loss = torch.nn.functional.mse_loss(y_hat, y_train_oh.float())\n",
    "        d_loss = abs(loss -loss_prev)\n",
    "        loss_prev = loss\n",
    "        loss.backward()\n",
    "        W.data = W.data - eta * W.grad\n",
    "        train_accuracy.append(cal_accuracy(W,x_train,y_train))\n",
    "        test_accuracy.append(cal_accuracy(W,x_test,y_test))\n",
    "        W.grad.zero_()\n",
    "        print(loss.data)\n",
    "    return W,train_accuracy,test_accuracy,i\n",
    "        \n",
    "        "
   ]
  },
  {
   "cell_type": "code",
   "execution_count": 13,
   "metadata": {},
   "outputs": [
    {
     "name": "stdout",
     "output_type": "stream",
     "text": [
      "tensor(0.1000)\n",
      "tensor(0.0872)\n",
      "tensor(0.0832)\n",
      "tensor(0.0800)\n",
      "tensor(0.0773)\n",
      "tensor(0.0748)\n",
      "tensor(0.0726)\n",
      "tensor(0.0707)\n",
      "tensor(0.0689)\n",
      "tensor(0.0673)\n",
      "tensor(0.0659)\n",
      "tensor(0.0647)\n",
      "tensor(0.0635)\n",
      "tensor(0.0624)\n",
      "tensor(0.0615)\n",
      "tensor(0.0606)\n",
      "tensor(0.0598)\n",
      "tensor(0.0590)\n",
      "tensor(0.0584)\n",
      "tensor(0.0577)\n",
      "tensor(0.0572)\n",
      "tensor(0.0566)\n",
      "tensor(0.0561)\n",
      "tensor(0.0556)\n",
      "tensor(0.0552)\n",
      "tensor(0.0548)\n",
      "tensor(0.0544)\n",
      "tensor(0.0540)\n",
      "tensor(0.0537)\n",
      "tensor(0.0534)\n",
      "tensor(0.0531)\n",
      "tensor(0.0528)\n",
      "tensor(0.0525)\n",
      "tensor(0.0522)\n",
      "tensor(0.0520)\n",
      "tensor(0.0517)\n",
      "tensor(0.0515)\n",
      "tensor(0.0513)\n",
      "tensor(0.0511)\n",
      "tensor(0.0509)\n",
      "tensor(0.0507)\n",
      "tensor(0.0505)\n",
      "tensor(0.0503)\n",
      "tensor(0.0502)\n",
      "tensor(0.0500)\n",
      "tensor(0.0498)\n",
      "tensor(0.0497)\n",
      "tensor(0.0496)\n",
      "tensor(0.0494)\n",
      "tensor(0.0493)\n",
      "tensor(0.0491)\n",
      "tensor(0.0490)\n",
      "tensor(0.0489)\n",
      "tensor(0.0488)\n",
      "tensor(0.0487)\n",
      "tensor(0.0486)\n",
      "tensor(0.0484)\n",
      "tensor(0.0483)\n",
      "tensor(0.0482)\n",
      "tensor(0.0481)\n",
      "tensor(0.0480)\n",
      "tensor(0.0480)\n",
      "tensor(0.0479)\n",
      "tensor(0.0478)\n",
      "tensor(0.0477)\n",
      "tensor(0.0476)\n",
      "tensor(0.0475)\n",
      "tensor(0.0474)\n",
      "tensor(0.0474)\n",
      "tensor(0.0473)\n",
      "tensor(0.0472)\n",
      "tensor(0.0471)\n",
      "tensor(0.0471)\n",
      "tensor(0.0470)\n",
      "tensor(0.0469)\n",
      "tensor(0.0469)\n",
      "tensor(0.0468)\n",
      "tensor(0.0467)\n",
      "tensor(0.0467)\n",
      "tensor(0.0466)\n",
      "tensor(0.0466)\n",
      "tensor(0.0465)\n",
      "tensor(0.0464)\n",
      "tensor(0.0464)\n",
      "tensor(0.0463)\n",
      "tensor(0.0463)\n",
      "tensor(0.0462)\n",
      "tensor(0.0462)\n",
      "tensor(0.0461)\n"
     ]
    }
   ],
   "source": [
    "W,train_accuracy,test_accuracy,i = fit_gd_cross_entropy(x_train,y_train,x_test,y_test,eta=0.1, delta=0.00005)"
   ]
  },
  {
   "cell_type": "code",
   "execution_count": 14,
   "metadata": {},
   "outputs": [
    {
     "data": {
      "text/plain": [
       "Text(0, 0.5, 'Accuracy')"
      ]
     },
     "execution_count": 14,
     "metadata": {},
     "output_type": "execute_result"
    },
    {
     "data": {
      "image/png": "[encoded data removed]",
      "text/plain": [
       "<Figure size 1152x648 with 1 Axes>"
      ]
     },
     "metadata": {
      "needs_background": "light"
     },
     "output_type": "display_data"
    }
   ],
   "source": [
    "fig, ax = plt.subplots(figsize=(16,9))\n",
    "sns.lineplot(x=range(1,i+1), y=train_accuracy, ax=ax, label=\"Training data\")\n",
    "sns.lineplot(x=range(1,i+1), y=test_accuracy, ax=ax, label=\"Test data\")\n",
    "plt.legend()\n",
    "ax.set_xlabel(\"Iteration\")\n",
    "ax.set_ylabel(\"Accuracy\")\n",
    "#plt.savefig(\"B4c2.png\")"
   ]
  },
  {
   "cell_type": "code",
   "execution_count": 17,
   "metadata": {},
   "outputs": [
    {
     "data": {
      "text/plain": [
       "0.8289333333333333"
      ]
     },
     "execution_count": 17,
     "metadata": {},
     "output_type": "execute_result"
    }
   ],
   "source": [
    "train_accuracy[-1]"
   ]
  },
  {
   "cell_type": "code",
   "execution_count": null,
   "metadata": {},
   "outputs": [],
   "source": []
  }
 ],
 "metadata": {
  "kernelspec": {
   "display_name": "Python 3",
   "language": "python",
   "name": "python3"
  },
  "language_info": {
   "codemirror_mode": {
    "name": "ipython",
    "version": 3
   },
   "file_extension": ".py",
   "mimetype": "text/x-python",
   "name": "python",
   "nbconvert_exporter": "python",
   "pygments_lexer": "ipython3",
   "version": "3.7.6"
  }
 },
 "nbformat": 4,
 "nbformat_minor": 4
}
